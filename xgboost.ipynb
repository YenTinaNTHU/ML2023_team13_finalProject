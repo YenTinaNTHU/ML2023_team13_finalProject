{
 "cells": [
  {
   "cell_type": "code",
   "execution_count": 1,
   "metadata": {},
   "outputs": [],
   "source": [
    "import warnings\n",
    "\n",
    "warnings.filterwarnings(\"ignore\")\n",
    "\n",
    "import os\n",
    "from torch.utils import data\n",
    "from dataset import*\n",
    "from config import settings\n",
    "from torch.utils.tensorboard import SummaryWriter\n",
    "from model import*\n",
    "from train_test import *\n",
    "from sklearn.preprocessing import StandardScaler, MinMaxScaler"
   ]
  },
  {
   "cell_type": "code",
   "execution_count": 2,
   "metadata": {},
   "outputs": [
    {
     "name": "stdout",
     "output_type": "stream",
     "text": [
      "loaded csv file shape: (1000000, 8)\n",
      "setting time info...\n",
      "setting geo info...\n",
      "counting net fare...\n",
      "loaded test csv file shape: (9914, 7)\n",
      "setting time info...\n",
      "setting geo info...\n",
      "counting fixed fee...\n"
     ]
    }
   ],
   "source": [
    "transformers = {\n",
    "        'year': MinMaxScaler(), # Normalize\n",
    "        'weekday': None,\n",
    "        'time': None, # Standardlize\n",
    "        'weather': None\n",
    "    }\n",
    "train_df, transformers = load_data('train', total_sample=1000000, random_sample=settings.totalN, scaling_transformers=transformers)\n",
    "test_df, transformers = load_data('test', random_sample=settings.totalN, scaling_transformers=transformers)"
   ]
  },
  {
   "cell_type": "code",
   "execution_count": 3,
   "metadata": {},
   "outputs": [],
   "source": [
    "train_data_df = train_df.copy()\n",
    "test_data_df = test_df.copy()\n",
    "train_data_df.drop('fare_amount', axis=1, inplace=True)\n",
    "train_data_df.drop('total_fixed_fees', axis=1, inplace=True)\n",
    "test_data_df.drop('total_fixed_fees', axis=1, inplace=True)\n",
    "test_data_df.drop('key', axis=1, inplace=True)"
   ]
  },
  {
   "cell_type": "code",
   "execution_count": 4,
   "metadata": {},
   "outputs": [],
   "source": [
    "import xgboost as xgb\n",
    "from sklearn.model_selection import train_test_split"
   ]
  },
  {
   "cell_type": "code",
   "execution_count": 5,
   "metadata": {},
   "outputs": [],
   "source": [
    "\n",
    "# 假設你的目標欄位叫做'target'\n",
    "X_train = train_data_df.drop('net_fare', axis=1)\n",
    "y_train = train_data_df['net_fare']\n",
    "\n",
    "# 建立XGBoost回歸模型\n",
    "model = xgb.XGBRegressor(objective ='reg:squarederror', learning_rate = 0.01, max_depth = 5, n_estimators = 100)\n",
    "\n",
    "# 訓練模型\n",
    "model.fit(X_train, y_train)\n",
    "\n",
    "# 用訓練好的模型來預測測試資料集\n",
    "predictions = model.predict(test_data_df)\n"
   ]
  },
  {
   "cell_type": "code",
   "execution_count": 6,
   "metadata": {},
   "outputs": [],
   "source": [
    "# 將預測結果轉換為DataFrame\n",
    "total_fixed_fees = test_df['total_fixed_fees'].values\n",
    "predictions_df = pd.DataFrame(predictions+total_fixed_fees, columns=['fare_amount'])\n",
    "\n",
    "\n",
    "# 從測試數據集中提取'key'欄位\n",
    "keys_df = test_df['key']\n",
    "\n",
    "# 將'key'與預測結果組合成一個新的DataFrame\n",
    "result_df = pd.concat([keys_df.reset_index(drop=True), predictions_df], axis=1)"
   ]
  },
  {
   "cell_type": "code",
   "execution_count": 7,
   "metadata": {},
   "outputs": [],
   "source": [
    "result_df.to_csv('result.csv', index=False)"
   ]
  }
 ],
 "metadata": {
  "kernelspec": {
   "display_name": "ML_2023",
   "language": "python",
   "name": "python3"
  },
  "language_info": {
   "codemirror_mode": {
    "name": "ipython",
    "version": 3
   },
   "file_extension": ".py",
   "mimetype": "text/x-python",
   "name": "python",
   "nbconvert_exporter": "python",
   "pygments_lexer": "ipython3",
   "version": "3.9.16"
  },
  "orig_nbformat": 4
 },
 "nbformat": 4,
 "nbformat_minor": 2
}
