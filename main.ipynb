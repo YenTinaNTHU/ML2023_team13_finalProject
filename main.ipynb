{
 "cells": [
  {
   "cell_type": "code",
   "execution_count": 1,
   "id": "b959842e-0154-42f1-b2c1-c24905221572",
   "metadata": {},
   "outputs": [],
   "source": [
    "import warnings\n",
    "\n",
    "warnings.filterwarnings(\"ignore\")\n",
    "\n",
    "import os\n",
    "from torch.utils import data\n",
    "from dataset import*\n",
    "from config import settings\n",
    "from torch.utils.tensorboard import SummaryWriter\n",
    "from model import*\n",
    "from train_test import *\n"
   ]
  },
  {
   "cell_type": "markdown",
   "id": "43be7740-64f5-44b8-803e-6112b5be8816",
   "metadata": {},
   "source": [
    "## load training data"
   ]
  },
  {
   "cell_type": "code",
   "execution_count": null,
   "id": "e230a955-19d1-419e-a8c2-d5072eafd986",
   "metadata": {},
   "outputs": [],
   "source": [
    "df = load_data('train', total_sample=None, random_sample=settings.totalN)"
   ]
  },
  {
   "cell_type": "code",
   "execution_count": null,
   "id": "9417a69d-d9eb-43b2-8730-f7ab13731234",
   "metadata": {},
   "outputs": [],
   "source": [
    "print(df.head())"
   ]
  },
  {
   "cell_type": "code",
   "execution_count": null,
   "id": "a2b5297d-32e0-4151-9ed6-0eab877df922",
   "metadata": {},
   "outputs": [],
   "source": [
    "print(df.shape)"
   ]
  },
  {
   "cell_type": "markdown",
   "id": "5e11225e-f077-42dd-ba2c-8ca6d5b0c60f",
   "metadata": {},
   "source": [
    "## Training and validation data loader"
   ]
  },
  {
   "cell_type": "code",
   "execution_count": null,
   "id": "e14f0570-b57e-4f96-afd1-f6e79799f771",
   "metadata": {},
   "outputs": [],
   "source": [
    "BATCH_SIZE = 64\n",
    "train_dataset = DataFolder(split='train', df=df)\n",
    "train_dataloader = data.DataLoader(dataset=train_dataset,\n",
    "                                  batch_size=BATCH_SIZE,\n",
    "                                  shuffle=True,\n",
    "                                  drop_last=False,\n",
    "                                  num_workers=4)"
   ]
  },
  {
   "cell_type": "code",
   "execution_count": null,
   "id": "f489332c-e038-4b95-aa84-58db890306df",
   "metadata": {},
   "outputs": [],
   "source": [
    "valid_dataset = DataFolder(split='valid', df=df)\n",
    "valid_dataloader = data.DataLoader(dataset=valid_dataset,\n",
    "                                  batch_size=BATCH_SIZE,\n",
    "                                  shuffle=False,\n",
    "                                  drop_last=False,\n",
    "                                  num_workers=0)"
   ]
  },
  {
   "cell_type": "markdown",
   "id": "6329a2f6-3ec9-45b6-b307-d1920e974b19",
   "metadata": {},
   "source": [
    "## Mode select val or train"
   ]
  },
  {
   "cell_type": "code",
   "execution_count": null,
   "id": "13a5f5a7-14d6-4cce-ac73-d531930391bb",
   "metadata": {},
   "outputs": [],
   "source": [
    "Mode_train = True"
   ]
  },
  {
   "cell_type": "markdown",
   "id": "df1d117a-c237-48d2-af36-cff527401e88",
   "metadata": {},
   "source": [
    "## Device"
   ]
  },
  {
   "cell_type": "code",
   "execution_count": null,
   "id": "d2cb2f29-0313-4830-b8e3-f95526efef4c",
   "metadata": {},
   "outputs": [],
   "source": [
    "device = torch.device(\"cuda:2\" if torch.cuda.is_available() else \"cpu\")\n",
    "print(f\"Using {device} device\")"
   ]
  },
  {
   "cell_type": "markdown",
   "id": "05ef73f3-f2ed-4912-b593-4a2bfaec23a6",
   "metadata": {},
   "source": [
    "## Model select"
   ]
  },
  {
   "cell_type": "code",
   "execution_count": null,
   "id": "2cea6b68-2343-49fb-9036-7e67133b8930",
   "metadata": {},
   "outputs": [],
   "source": [
    "model_name = 'FCNN32 with BN'\n",
    "save_model_name = './model/'+ model_name +'.pth'\n",
    "loss_filename = './loss curve/' + model_name + '.txt'"
   ]
  },
  {
   "cell_type": "code",
   "execution_count": null,
   "id": "c66c8612-5548-4da5-a766-85c635e3e925",
   "metadata": {},
   "outputs": [],
   "source": [
    "input_dim = np.size(train_dataset.features, 1)\n",
    "print(f'feature dimension = {input_dim}')\n",
    "if Mode_train:\n",
    "    model = FCNN(input_dim=input_dim).to(device) \n",
    "else:\n",
    "    model = FCNN(input_dim=input_dim)\n",
    "    model.load_state_dict(torch.load(save_model_name))\n",
    "    model = model.to(device)\n",
    "print(model)"
   ]
  },
  {
   "cell_type": "markdown",
   "id": "755c1135-7f74-418e-ad3f-af81c7ac7872",
   "metadata": {},
   "source": [
    "## Loss function and optimizer"
   ]
  },
  {
   "cell_type": "code",
   "execution_count": null,
   "id": "ba31d0d3-411e-44ed-846c-14186396683e",
   "metadata": {},
   "outputs": [],
   "source": [
    "loss_fn = nn.MSELoss()\n",
    "optimizer = torch.optim.Adam(model.parameters(), lr=1e-3, weight_decay=1e-4)\n",
    "# optimizer2 = torch.optim.SGD(model.parameters(), lr=1e-2, weight_decay=0, momentum=0.9)"
   ]
  },
  {
   "cell_type": "markdown",
   "id": "904d9841-bc82-4c00-b262-00e0be61f62d",
   "metadata": {},
   "source": [
    "## Training epoch and stop condition"
   ]
  },
  {
   "cell_type": "code",
   "execution_count": null,
   "id": "e2332d6f-746f-4c30-a634-1101bb62b4ad",
   "metadata": {},
   "outputs": [],
   "source": [
    "trained = False"
   ]
  },
  {
   "cell_type": "code",
   "execution_count": null,
   "id": "c9809ec9-0bf5-4f6c-8bf1-79cd9ce53137",
   "metadata": {},
   "outputs": [],
   "source": [
    "writer = SummaryWriter('./logs/' + model_name)"
   ]
  },
  {
   "cell_type": "code",
   "execution_count": null,
   "id": "1d737e30-b70e-4fe8-9bcf-e01d397e0627",
   "metadata": {},
   "outputs": [],
   "source": [
    "if Mode_train:\n",
    "    epochs = 50\n",
    "    if not trained:\n",
    "        loss_record = [1e6, 1e6, 1e6, 1e6, 1e6]\n",
    "    for epoch in range(epochs):\n",
    "        train_loss = train(train_dataloader, model, loss_fn, optimizer, writer=writer, record_batches=200)\n",
    "        val_loss = val(valid_dataloader, model, loss_fn)\n",
    "        writer.add_scalar(\"loss/training\", train_loss, epoch+1)\n",
    "        writer.add_scalar(\"loss/validation\", val_loss, epoch+1)\n",
    "        print(f\"Epoch {epoch + 1:2d}: Loss = {train_loss:.4f}\") \n",
    "        print(f'valid loss = {val_loss:.4f}')\n",
    "        loss_record.append(train_loss)\n",
    "        # if train_loss > sum(loss_record[-5:])/5*1.05 or train_loss < 0.1:\n",
    "        #     print('Early stop!')\n",
    "        #     break\n",
    "\n",
    "    if not trained:        \n",
    "        del loss_record[0:5]\n",
    "    trained = True    \n",
    "    print(\"Done!\")"
   ]
  },
  {
   "cell_type": "markdown",
   "id": "dbeccd69-c913-47c4-bc99-e940d2b51691",
   "metadata": {},
   "source": [
    "## Plot training loss curve"
   ]
  },
  {
   "cell_type": "code",
   "execution_count": null,
   "id": "be937485-68fa-4dc4-af1a-172937f9ba20",
   "metadata": {},
   "outputs": [],
   "source": [
    "import matplotlib.pyplot as plt\n",
    "\n",
    "def plot_loss_curve(loss_list):\n",
    "    plt.plot(loss_list)\n",
    "    plt.title('Loss Curve')\n",
    "    plt.xlabel('Epoch')\n",
    "    plt.ylabel('Loss')\n",
    "    plt.show()"
   ]
  },
  {
   "cell_type": "code",
   "execution_count": null,
   "id": "921241a4-84fb-40bf-ac81-a5f5581a6a94",
   "metadata": {},
   "outputs": [],
   "source": [
    "if Mode_train:\n",
    "    plot_loss_curve(loss_record)\n",
    "else:\n",
    "    print('Auto load loss curve')\n",
    "    with open(loss_filename) as fh:\n",
    "        s = fh.readline()\n",
    "        L = s[1:-1].split(', ')\n",
    "        loss_record = [float(x) for x in L]        \n",
    "    plot_loss_curve(loss_record)"
   ]
  },
  {
   "cell_type": "markdown",
   "id": "cc168e95-d799-48f2-9096-a5eb429cd162",
   "metadata": {},
   "source": [
    "## Evaluate"
   ]
  },
  {
   "cell_type": "code",
   "execution_count": null,
   "id": "3e41223d-4c78-4904-a0d5-e38d3c7420d0",
   "metadata": {},
   "outputs": [],
   "source": [
    "#final_train_loss = val(train_dataloader, model, loss_fn)\n",
    "final_val_loss = val(valid_dataloader, model, loss_fn)\n",
    "print(f'final valid loss = {final_val_loss:.4f}')"
   ]
  },
  {
   "cell_type": "markdown",
   "id": "3ebdad2f-6c4e-4451-9f5a-e3966809aac9",
   "metadata": {},
   "source": [
    "## Save model"
   ]
  },
  {
   "cell_type": "code",
   "execution_count": null,
   "id": "dd76e36c-6773-4a9b-95a2-730be3af8c85",
   "metadata": {},
   "outputs": [],
   "source": [
    "if Mode_train:\n",
    "    torch.save(model.state_dict(), save_model_name)\n",
    "    with open(loss_filename, 'w') as fh:\n",
    "        fh.writelines(str(loss_record))   "
   ]
  },
  {
   "cell_type": "markdown",
   "id": "d2b583fe-1fe0-44a7-99f7-777355e9da95",
   "metadata": {},
   "source": [
    "## Output test result"
   ]
  },
  {
   "cell_type": "code",
   "execution_count": null,
   "id": "2f9c3efe-d359-46d1-b3f2-f58c39d9f346",
   "metadata": {},
   "outputs": [],
   "source": [
    "test_dataset = DataFolder(split='test')\n",
    "test_dataloader = data.DataLoader(dataset=test_dataset,\n",
    "                                  batch_size=BATCH_SIZE,\n",
    "                                  shuffle=False,\n",
    "                                  drop_last=False,\n",
    "                                  num_workers=0)"
   ]
  },
  {
   "cell_type": "code",
   "execution_count": null,
   "id": "4cdb398d-c907-4050-9b97-b008f18ddbd9",
   "metadata": {},
   "outputs": [],
   "source": [
    "df_test = pd.DataFrame(test_dataset.key_list, columns=[\"key\"])\n",
    "\n",
    "predictions = test(test_dataloader, model)\n",
    "\n",
    "df_test[\"fare_amount\"] = predictions\n",
    "\n",
    "# 將dataframe保存為CSV文件\n",
    "df_test.to_csv(\"predictions.csv\", index=False)"
   ]
  },
  {
   "cell_type": "code",
   "execution_count": null,
   "id": "e19a0e18-b48a-4984-bea6-62da849fb7a3",
   "metadata": {},
   "outputs": [],
   "source": []
  }
 ],
 "metadata": {
  "kernelspec": {
   "display_name": "CUDA101-python38",
   "language": "python",
   "name": "cuda101-python38"
  },
  "language_info": {
   "codemirror_mode": {
    "name": "ipython",
    "version": 3
   },
   "file_extension": ".py",
   "mimetype": "text/x-python",
   "name": "python",
   "nbconvert_exporter": "python",
   "pygments_lexer": "ipython3",
   "version": "3.8.16"
  }
 },
 "nbformat": 4,
 "nbformat_minor": 5
}
