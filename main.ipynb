{
 "cells": [
  {
   "cell_type": "code",
   "execution_count": 1,
   "id": "b959842e-0154-42f1-b2c1-c24905221572",
   "metadata": {},
   "outputs": [],
   "source": [
    "import warnings\n",
    "\n",
    "warnings.filterwarnings(\"ignore\")\n",
    "\n",
    "import os\n",
    "from torch.utils import data\n",
    "from dataset import*\n",
    "from config import settings\n",
    "from torch.utils.tensorboard import SummaryWriter\n",
    "from model import*\n",
    "from train_test import *\n",
    "from sklearn.preprocessing import StandardScaler, MinMaxScaler\n"
   ]
  },
  {
   "cell_type": "markdown",
   "id": "43be7740-64f5-44b8-803e-6112b5be8816",
   "metadata": {},
   "source": [
    "## load training data"
   ]
  },
  {
   "cell_type": "code",
   "execution_count": 6,
   "id": "e230a955-19d1-419e-a8c2-d5072eafd986",
   "metadata": {},
   "outputs": [
    {
     "name": "stdout",
     "output_type": "stream",
     "text": [
      "loaded csv file shape: (100000, 8)\n",
      "setting time info...\n",
      "setting geo info...\n",
      "counting net fare...\n"
     ]
    }
   ],
   "source": [
    "transformers = {\n",
    "        'year': MinMaxScaler(), # Normalize\n",
    "        'weekday': None,\n",
    "        'time': StandardScaler(), # Standardlize\n",
    "        'weather': None\n",
    "    }\n",
    "df, transformers = load_data('train', total_sample=100000, random_sample=settings.totalN, scaling_transformers=transformers)"
   ]
  },
  {
   "cell_type": "code",
   "execution_count": 4,
   "id": "9417a69d-d9eb-43b2-8730-f7ab13731234",
   "metadata": {},
   "outputs": [
    {
     "data": {
      "text/html": [
       "<div>\n",
       "<style scoped>\n",
       "    .dataframe tbody tr th:only-of-type {\n",
       "        vertical-align: middle;\n",
       "    }\n",
       "\n",
       "    .dataframe tbody tr th {\n",
       "        vertical-align: top;\n",
       "    }\n",
       "\n",
       "    .dataframe thead th {\n",
       "        text-align: right;\n",
       "    }\n",
       "</style>\n",
       "<table border=\"1\" class=\"dataframe\">\n",
       "  <thead>\n",
       "    <tr style=\"text-align: right;\">\n",
       "      <th></th>\n",
       "      <th>fare_amount</th>\n",
       "      <th>passenger_count</th>\n",
       "      <th>year</th>\n",
       "      <th>Sunday</th>\n",
       "      <th>Monday</th>\n",
       "      <th>Tuesday</th>\n",
       "      <th>Wednesday</th>\n",
       "      <th>Thursday</th>\n",
       "      <th>Friday</th>\n",
       "      <th>Saturday</th>\n",
       "      <th>...</th>\n",
       "      <th>downtown_pickup_distance</th>\n",
       "      <th>downtown_dropoff_distance</th>\n",
       "      <th>jfk_pickup_distance</th>\n",
       "      <th>jfk_dropoff_distance</th>\n",
       "      <th>ewr_pickup_distance</th>\n",
       "      <th>ewr_dropoff_distance</th>\n",
       "      <th>lgr_pickup_distance</th>\n",
       "      <th>lgr_dropoff_distance</th>\n",
       "      <th>total_fixed_fees</th>\n",
       "      <th>net_fare</th>\n",
       "    </tr>\n",
       "  </thead>\n",
       "  <tbody>\n",
       "    <tr>\n",
       "      <th>count</th>\n",
       "      <td>94595.000000</td>\n",
       "      <td>94595.000000</td>\n",
       "      <td>94595.000000</td>\n",
       "      <td>94595.000000</td>\n",
       "      <td>94595.000000</td>\n",
       "      <td>94595.000000</td>\n",
       "      <td>94595.000000</td>\n",
       "      <td>94595.000000</td>\n",
       "      <td>94595.000000</td>\n",
       "      <td>94595.000000</td>\n",
       "      <td>...</td>\n",
       "      <td>94595.000000</td>\n",
       "      <td>94595.000000</td>\n",
       "      <td>94595.000000</td>\n",
       "      <td>94595.000000</td>\n",
       "      <td>94595.000000</td>\n",
       "      <td>94595.000000</td>\n",
       "      <td>94595.000000</td>\n",
       "      <td>94595.000000</td>\n",
       "      <td>94595.000000</td>\n",
       "      <td>94595.000000</td>\n",
       "    </tr>\n",
       "    <tr>\n",
       "      <th>mean</th>\n",
       "      <td>11.502957</td>\n",
       "      <td>1.681780</td>\n",
       "      <td>0.458728</td>\n",
       "      <td>0.138686</td>\n",
       "      <td>0.145949</td>\n",
       "      <td>0.149701</td>\n",
       "      <td>0.153074</td>\n",
       "      <td>0.153232</td>\n",
       "      <td>0.129880</td>\n",
       "      <td>0.129478</td>\n",
       "      <td>...</td>\n",
       "      <td>0.072126</td>\n",
       "      <td>0.075277</td>\n",
       "      <td>0.300675</td>\n",
       "      <td>0.300043</td>\n",
       "      <td>0.262527</td>\n",
       "      <td>0.264304</td>\n",
       "      <td>0.133576</td>\n",
       "      <td>0.133698</td>\n",
       "      <td>3.384269</td>\n",
       "      <td>8.118688</td>\n",
       "    </tr>\n",
       "    <tr>\n",
       "      <th>std</th>\n",
       "      <td>9.587967</td>\n",
       "      <td>1.299167</td>\n",
       "      <td>0.312047</td>\n",
       "      <td>0.345620</td>\n",
       "      <td>0.353056</td>\n",
       "      <td>0.356780</td>\n",
       "      <td>0.360060</td>\n",
       "      <td>0.360213</td>\n",
       "      <td>0.336173</td>\n",
       "      <td>0.335730</td>\n",
       "      <td>...</td>\n",
       "      <td>0.054969</td>\n",
       "      <td>0.052351</td>\n",
       "      <td>0.048959</td>\n",
       "      <td>0.044098</td>\n",
       "      <td>0.052672</td>\n",
       "      <td>0.052493</td>\n",
       "      <td>0.044353</td>\n",
       "      <td>0.042489</td>\n",
       "      <td>0.703426</td>\n",
       "      <td>9.504620</td>\n",
       "    </tr>\n",
       "    <tr>\n",
       "      <th>min</th>\n",
       "      <td>2.900000</td>\n",
       "      <td>1.000000</td>\n",
       "      <td>0.000000</td>\n",
       "      <td>0.000000</td>\n",
       "      <td>0.000000</td>\n",
       "      <td>0.000000</td>\n",
       "      <td>0.000000</td>\n",
       "      <td>0.000000</td>\n",
       "      <td>0.000000</td>\n",
       "      <td>0.000000</td>\n",
       "      <td>...</td>\n",
       "      <td>0.000040</td>\n",
       "      <td>0.000174</td>\n",
       "      <td>0.000113</td>\n",
       "      <td>0.000097</td>\n",
       "      <td>0.003034</td>\n",
       "      <td>0.002908</td>\n",
       "      <td>0.001286</td>\n",
       "      <td>0.002362</td>\n",
       "      <td>2.500000</td>\n",
       "      <td>0.090000</td>\n",
       "    </tr>\n",
       "    <tr>\n",
       "      <th>25%</th>\n",
       "      <td>6.100000</td>\n",
       "      <td>1.000000</td>\n",
       "      <td>0.166667</td>\n",
       "      <td>0.000000</td>\n",
       "      <td>0.000000</td>\n",
       "      <td>0.000000</td>\n",
       "      <td>0.000000</td>\n",
       "      <td>0.000000</td>\n",
       "      <td>0.000000</td>\n",
       "      <td>0.000000</td>\n",
       "      <td>...</td>\n",
       "      <td>0.038789</td>\n",
       "      <td>0.042172</td>\n",
       "      <td>0.296465</td>\n",
       "      <td>0.295500</td>\n",
       "      <td>0.230474</td>\n",
       "      <td>0.232081</td>\n",
       "      <td>0.113489</td>\n",
       "      <td>0.113162</td>\n",
       "      <td>3.000000</td>\n",
       "      <td>2.700000</td>\n",
       "    </tr>\n",
       "    <tr>\n",
       "      <th>50%</th>\n",
       "      <td>8.500000</td>\n",
       "      <td>1.000000</td>\n",
       "      <td>0.500000</td>\n",
       "      <td>0.000000</td>\n",
       "      <td>0.000000</td>\n",
       "      <td>0.000000</td>\n",
       "      <td>0.000000</td>\n",
       "      <td>0.000000</td>\n",
       "      <td>0.000000</td>\n",
       "      <td>0.000000</td>\n",
       "      <td>...</td>\n",
       "      <td>0.065442</td>\n",
       "      <td>0.068002</td>\n",
       "      <td>0.305998</td>\n",
       "      <td>0.305911</td>\n",
       "      <td>0.257894</td>\n",
       "      <td>0.259348</td>\n",
       "      <td>0.130095</td>\n",
       "      <td>0.128898</td>\n",
       "      <td>3.500000</td>\n",
       "      <td>5.100000</td>\n",
       "    </tr>\n",
       "    <tr>\n",
       "      <th>75%</th>\n",
       "      <td>12.900000</td>\n",
       "      <td>2.000000</td>\n",
       "      <td>0.666667</td>\n",
       "      <td>0.000000</td>\n",
       "      <td>0.000000</td>\n",
       "      <td>0.000000</td>\n",
       "      <td>0.000000</td>\n",
       "      <td>0.000000</td>\n",
       "      <td>0.000000</td>\n",
       "      <td>0.000000</td>\n",
       "      <td>...</td>\n",
       "      <td>0.092056</td>\n",
       "      <td>0.098002</td>\n",
       "      <td>0.317521</td>\n",
       "      <td>0.317463</td>\n",
       "      <td>0.284615</td>\n",
       "      <td>0.289131</td>\n",
       "      <td>0.156301</td>\n",
       "      <td>0.155191</td>\n",
       "      <td>3.500000</td>\n",
       "      <td>9.500000</td>\n",
       "    </tr>\n",
       "    <tr>\n",
       "      <th>max</th>\n",
       "      <td>165.000000</td>\n",
       "      <td>6.000000</td>\n",
       "      <td>1.000000</td>\n",
       "      <td>1.000000</td>\n",
       "      <td>1.000000</td>\n",
       "      <td>1.000000</td>\n",
       "      <td>1.000000</td>\n",
       "      <td>1.000000</td>\n",
       "      <td>1.000000</td>\n",
       "      <td>1.000000</td>\n",
       "      <td>...</td>\n",
       "      <td>1.520967</td>\n",
       "      <td>1.520967</td>\n",
       "      <td>1.773917</td>\n",
       "      <td>1.689596</td>\n",
       "      <td>1.713745</td>\n",
       "      <td>1.713745</td>\n",
       "      <td>1.599629</td>\n",
       "      <td>1.587101</td>\n",
       "      <td>21.300000</td>\n",
       "      <td>161.500000</td>\n",
       "    </tr>\n",
       "  </tbody>\n",
       "</table>\n",
       "<p>8 rows × 32 columns</p>\n",
       "</div>"
      ],
      "text/plain": [
       "        fare_amount  passenger_count          year        Sunday  \\\n",
       "count  94595.000000     94595.000000  94595.000000  94595.000000   \n",
       "mean      11.502957         1.681780      0.458728      0.138686   \n",
       "std        9.587967         1.299167      0.312047      0.345620   \n",
       "min        2.900000         1.000000      0.000000      0.000000   \n",
       "25%        6.100000         1.000000      0.166667      0.000000   \n",
       "50%        8.500000         1.000000      0.500000      0.000000   \n",
       "75%       12.900000         2.000000      0.666667      0.000000   \n",
       "max      165.000000         6.000000      1.000000      1.000000   \n",
       "\n",
       "             Monday       Tuesday     Wednesday      Thursday        Friday  \\\n",
       "count  94595.000000  94595.000000  94595.000000  94595.000000  94595.000000   \n",
       "mean       0.145949      0.149701      0.153074      0.153232      0.129880   \n",
       "std        0.353056      0.356780      0.360060      0.360213      0.336173   \n",
       "min        0.000000      0.000000      0.000000      0.000000      0.000000   \n",
       "25%        0.000000      0.000000      0.000000      0.000000      0.000000   \n",
       "50%        0.000000      0.000000      0.000000      0.000000      0.000000   \n",
       "75%        0.000000      0.000000      0.000000      0.000000      0.000000   \n",
       "max        1.000000      1.000000      1.000000      1.000000      1.000000   \n",
       "\n",
       "           Saturday  ...  downtown_pickup_distance  downtown_dropoff_distance  \\\n",
       "count  94595.000000  ...              94595.000000               94595.000000   \n",
       "mean       0.129478  ...                  0.072126                   0.075277   \n",
       "std        0.335730  ...                  0.054969                   0.052351   \n",
       "min        0.000000  ...                  0.000040                   0.000174   \n",
       "25%        0.000000  ...                  0.038789                   0.042172   \n",
       "50%        0.000000  ...                  0.065442                   0.068002   \n",
       "75%        0.000000  ...                  0.092056                   0.098002   \n",
       "max        1.000000  ...                  1.520967                   1.520967   \n",
       "\n",
       "       jfk_pickup_distance  jfk_dropoff_distance  ewr_pickup_distance  \\\n",
       "count         94595.000000          94595.000000         94595.000000   \n",
       "mean              0.300675              0.300043             0.262527   \n",
       "std               0.048959              0.044098             0.052672   \n",
       "min               0.000113              0.000097             0.003034   \n",
       "25%               0.296465              0.295500             0.230474   \n",
       "50%               0.305998              0.305911             0.257894   \n",
       "75%               0.317521              0.317463             0.284615   \n",
       "max               1.773917              1.689596             1.713745   \n",
       "\n",
       "       ewr_dropoff_distance  lgr_pickup_distance  lgr_dropoff_distance  \\\n",
       "count          94595.000000         94595.000000          94595.000000   \n",
       "mean               0.264304             0.133576              0.133698   \n",
       "std                0.052493             0.044353              0.042489   \n",
       "min                0.002908             0.001286              0.002362   \n",
       "25%                0.232081             0.113489              0.113162   \n",
       "50%                0.259348             0.130095              0.128898   \n",
       "75%                0.289131             0.156301              0.155191   \n",
       "max                1.713745             1.599629              1.587101   \n",
       "\n",
       "       total_fixed_fees      net_fare  \n",
       "count      94595.000000  94595.000000  \n",
       "mean           3.384269      8.118688  \n",
       "std            0.703426      9.504620  \n",
       "min            2.500000      0.090000  \n",
       "25%            3.000000      2.700000  \n",
       "50%            3.500000      5.100000  \n",
       "75%            3.500000      9.500000  \n",
       "max           21.300000    161.500000  \n",
       "\n",
       "[8 rows x 32 columns]"
      ]
     },
     "execution_count": 4,
     "metadata": {},
     "output_type": "execute_result"
    }
   ],
   "source": [
    "df.describe()"
   ]
  },
  {
   "cell_type": "code",
   "execution_count": 7,
   "metadata": {},
   "outputs": [
    {
     "data": {
      "text/plain": [
       "Index(['fare_amount', 'passenger_count', 'year', 'Sunday', 'Monday', 'Tuesday',\n",
       "       'Wednesday', 'Thursday', 'Friday', 'Saturday', 'hour', 'is_holiday',\n",
       "       'temperature', 'weathercode', 'distance', 'night', 'late_night',\n",
       "       'from_JKF', 'to_JKF', 'from_LGA', 'to_LGA', 'to_EWR', 'from_Manhattan',\n",
       "       'to_Manhattan', 'direction', 'latdiff', 'londiff', 'euclidean',\n",
       "       'manhattan', 'downtown_pickup_distance', 'downtown_dropoff_distance',\n",
       "       'jfk_pickup_distance', 'jfk_dropoff_distance', 'ewr_pickup_distance',\n",
       "       'ewr_dropoff_distance', 'lgr_pickup_distance', 'lgr_dropoff_distance',\n",
       "       'total_fixed_fees', 'net_fare'],\n",
       "      dtype='object')"
      ]
     },
     "execution_count": 7,
     "metadata": {},
     "output_type": "execute_result"
    }
   ],
   "source": [
    "df.columns"
   ]
  },
  {
   "cell_type": "code",
   "execution_count": 11,
   "id": "e267a8af",
   "metadata": {},
   "outputs": [
    {
     "data": {
      "image/png": "[encoded data removed]",
      "text/plain": [
       "<Figure size 1800x600 with 1 Axes>"
      ]
     },
     "metadata": {},
     "output_type": "display_data"
    }
   ],
   "source": [
    "#Log-transformation\n",
    "plt.subplots(figsize=(18,6))\n",
    "plt.hist(df[df['distance'] < np.log(100)]['distance'].values, bins=100)\n",
    "# plt.hist(np.log(df['net_fare'].values), bins=100)\n",
    "plt.xlabel('(net_fare)')\n",
    "plt.ylabel('number of train records')\n",
    "plt.show()"
   ]
  },
  {
   "cell_type": "code",
   "execution_count": 8,
   "id": "a2b5297d-32e0-4151-9ed6-0eab877df922",
   "metadata": {},
   "outputs": [
    {
     "name": "stdout",
     "output_type": "stream",
     "text": [
      "(948, 24)\n"
     ]
    }
   ],
   "source": [
    "print(df.shape)"
   ]
  },
  {
   "cell_type": "code",
   "execution_count": 9,
   "id": "d9265b18",
   "metadata": {},
   "outputs": [
    {
     "data": {
      "text/plain": [
       "Index(['fare_amount', 'passenger_count', 'year', 'Sunday', 'Monday', 'Tuesday',\n",
       "       'Wednesday', 'Thursday', 'Friday', 'Saturday', 'hour', 'is_holiday',\n",
       "       'temperature', 'weathercode', 'distance', 'from_JKF', 'to_JKF',\n",
       "       'from_LGA', 'to_LGA', 'to_EWR', 'from_Manhattan', 'to_Manhattan',\n",
       "       'total_fixed_fees', 'net_fare'],\n",
       "      dtype='object')"
      ]
     },
     "execution_count": 9,
     "metadata": {},
     "output_type": "execute_result"
    }
   ],
   "source": [
    "df.columns"
   ]
  },
  {
   "cell_type": "markdown",
   "id": "5e11225e-f077-42dd-ba2c-8ca6d5b0c60f",
   "metadata": {},
   "source": [
    "## Training and validation data loader"
   ]
  },
  {
   "cell_type": "code",
   "execution_count": 4,
   "id": "e14f0570-b57e-4f96-afd1-f6e79799f771",
   "metadata": {},
   "outputs": [],
   "source": [
    "BATCH_SIZE = 64\n",
    "train_dataset = DataFolder(split='train', df=df, transformers=transformers)\n",
    "train_dataloader = data.DataLoader(dataset=train_dataset,\n",
    "                                  batch_size=BATCH_SIZE,\n",
    "                                  shuffle=True,\n",
    "                                  drop_last=False,\n",
    "                                  num_workers=4)"
   ]
  },
  {
   "cell_type": "code",
   "execution_count": 8,
   "id": "f489332c-e038-4b95-aa84-58db890306df",
   "metadata": {},
   "outputs": [],
   "source": [
    "valid_dataset = DataFolder(split='valid', df=df, transformers=transformers)\n",
    "valid_dataloader = data.DataLoader(dataset=valid_dataset,\n",
    "                                  batch_size=BATCH_SIZE,\n",
    "                                  shuffle=False,\n",
    "                                  drop_last=False,\n",
    "                                  num_workers=0)"
   ]
  },
  {
   "cell_type": "markdown",
   "id": "6329a2f6-3ec9-45b6-b307-d1920e974b19",
   "metadata": {},
   "source": [
    "## Mode select val or train"
   ]
  },
  {
   "cell_type": "code",
   "execution_count": 9,
   "id": "13a5f5a7-14d6-4cce-ac73-d531930391bb",
   "metadata": {},
   "outputs": [],
   "source": [
    "Mode_train = True"
   ]
  },
  {
   "cell_type": "markdown",
   "id": "df1d117a-c237-48d2-af36-cff527401e88",
   "metadata": {},
   "source": [
    "## Device"
   ]
  },
  {
   "cell_type": "code",
   "execution_count": 10,
   "id": "d2cb2f29-0313-4830-b8e3-f95526efef4c",
   "metadata": {},
   "outputs": [
    {
     "name": "stdout",
     "output_type": "stream",
     "text": [
      "Using cpu device\n"
     ]
    }
   ],
   "source": [
    "device = torch.device(\"cuda:2\" if torch.cuda.is_available() else \"cpu\")\n",
    "print(f\"Using {device} device\")"
   ]
  },
  {
   "cell_type": "markdown",
   "id": "05ef73f3-f2ed-4912-b593-4a2bfaec23a6",
   "metadata": {},
   "source": [
    "## Model select"
   ]
  },
  {
   "cell_type": "code",
   "execution_count": 11,
   "id": "2cea6b68-2343-49fb-9036-7e67133b8930",
   "metadata": {},
   "outputs": [],
   "source": [
    "model_name = 'FCNN32 with BN'\n",
    "save_model_name = './model/'+ model_name +'.pth'\n",
    "loss_filename = './loss curve/' + model_name + '.txt'"
   ]
  },
  {
   "cell_type": "code",
   "execution_count": 12,
   "id": "7c7c96e2",
   "metadata": {},
   "outputs": [
    {
     "data": {
      "text/plain": [
       "array([[2, 1.0, 0, ..., True, True, 4.3],\n",
       "       [6, 0.8333333333333144, 0, ..., True, True, 3.0],\n",
       "       [1, 0.5, 0, ..., True, True, 4.0],\n",
       "       ...,\n",
       "       [1, 0.8333333333333144, 0, ..., False, False, 3.0],\n",
       "       [2, 0.16666666666668561, 0, ..., True, True, 3.5],\n",
       "       [2, 0.8333333333333144, 0, ..., True, True, 4.0]], dtype=object)"
      ]
     },
     "execution_count": 12,
     "metadata": {},
     "output_type": "execute_result"
    }
   ],
   "source": [
    "train_dataset.features"
   ]
  },
  {
   "cell_type": "code",
   "execution_count": 13,
   "id": "c66c8612-5548-4da5-a766-85c635e3e925",
   "metadata": {},
   "outputs": [
    {
     "name": "stdout",
     "output_type": "stream",
     "text": [
      "feature dimension = 22\n",
      "FCNN(\n",
      "  (linear_relu_stack): Sequential(\n",
      "    (0): Linear(in_features=22, out_features=32, bias=True)\n",
      "    (1): ReLU()\n",
      "    (2): Linear(in_features=32, out_features=32, bias=True)\n",
      "    (3): BatchNorm1d(32, eps=1e-05, momentum=0.1, affine=True, track_running_stats=True)\n",
      "    (4): ReLU()\n",
      "    (5): Linear(in_features=32, out_features=32, bias=True)\n",
      "    (6): BatchNorm1d(32, eps=1e-05, momentum=0.1, affine=True, track_running_stats=True)\n",
      "    (7): ReLU()\n",
      "    (8): Linear(in_features=32, out_features=1, bias=True)\n",
      "  )\n",
      ")\n"
     ]
    }
   ],
   "source": [
    "input_dim = np.size(train_dataset.features, 1)\n",
    "print(f'feature dimension = {input_dim}')\n",
    "if Mode_train:\n",
    "    model = FCNN(input_dim=input_dim).to(device) \n",
    "else:\n",
    "    model = FCNN(input_dim=input_dim)\n",
    "    model.load_state_dict(torch.load(save_model_name))\n",
    "    model = model.to(device)\n",
    "print(model)"
   ]
  },
  {
   "cell_type": "markdown",
   "id": "755c1135-7f74-418e-ad3f-af81c7ac7872",
   "metadata": {},
   "source": [
    "## Loss function and optimizer"
   ]
  },
  {
   "cell_type": "code",
   "execution_count": 14,
   "id": "ba31d0d3-411e-44ed-846c-14186396683e",
   "metadata": {},
   "outputs": [],
   "source": [
    "loss_fn = nn.MSELoss()\n",
    "optimizer = torch.optim.Adam(model.parameters(), lr=1e-3, weight_decay=1e-4)\n",
    "# optimizer2 = torch.optim.SGD(model.parameters(), lr=1e-2, weight_decay=0, momentum=0.9)"
   ]
  },
  {
   "cell_type": "markdown",
   "id": "904d9841-bc82-4c00-b262-00e0be61f62d",
   "metadata": {},
   "source": [
    "## Training epoch and stop condition"
   ]
  },
  {
   "cell_type": "code",
   "execution_count": 15,
   "id": "e2332d6f-746f-4c30-a634-1101bb62b4ad",
   "metadata": {},
   "outputs": [],
   "source": [
    "trained = False"
   ]
  },
  {
   "cell_type": "code",
   "execution_count": 16,
   "id": "c9809ec9-0bf5-4f6c-8bf1-79cd9ce53137",
   "metadata": {},
   "outputs": [],
   "source": [
    "writer = SummaryWriter('./logs/' + model_name)"
   ]
  },
  {
   "cell_type": "code",
   "execution_count": 17,
   "id": "1d737e30-b70e-4fe8-9bcf-e01d397e0627",
   "metadata": {},
   "outputs": [
    {
     "name": "stderr",
     "output_type": "stream",
     "text": [
      "100%|██████████| 15/15 [00:24<00:00,  1.63s/it]\n",
      "100%|██████████| 1/1 [00:00<00:00, 191.06it/s]\n"
     ]
    },
    {
     "name": "stdout",
     "output_type": "stream",
     "text": [
      "Epoch  1: Loss = 11.9661\n",
      "valid loss = 3.1983\n"
     ]
    },
    {
     "name": "stderr",
     "output_type": "stream",
     "text": [
      "100%|██████████| 15/15 [00:24<00:00,  1.61s/it]\n",
      "100%|██████████| 1/1 [00:00<00:00, 229.57it/s]\n"
     ]
    },
    {
     "name": "stdout",
     "output_type": "stream",
     "text": [
      "Epoch  2: Loss = 11.5079\n",
      "valid loss = 3.1981\n"
     ]
    },
    {
     "name": "stderr",
     "output_type": "stream",
     "text": [
      "100%|██████████| 15/15 [00:23<00:00,  1.60s/it]\n",
      "100%|██████████| 1/1 [00:00<00:00, 242.03it/s]\n"
     ]
    },
    {
     "name": "stdout",
     "output_type": "stream",
     "text": [
      "Epoch  3: Loss = 11.1683\n",
      "valid loss = 3.0410\n"
     ]
    },
    {
     "name": "stderr",
     "output_type": "stream",
     "text": [
      "100%|██████████| 15/15 [00:23<00:00,  1.60s/it]\n",
      "100%|██████████| 1/1 [00:00<00:00, 277.84it/s]\n"
     ]
    },
    {
     "name": "stdout",
     "output_type": "stream",
     "text": [
      "Epoch  4: Loss = 10.9401\n",
      "valid loss = 2.7521\n"
     ]
    },
    {
     "name": "stderr",
     "output_type": "stream",
     "text": [
      "100%|██████████| 15/15 [00:23<00:00,  1.60s/it]\n",
      "100%|██████████| 1/1 [00:00<00:00, 181.00it/s]\n"
     ]
    },
    {
     "name": "stdout",
     "output_type": "stream",
     "text": [
      "Epoch  5: Loss = 10.4193\n",
      "valid loss = 2.8963\n"
     ]
    },
    {
     "name": "stderr",
     "output_type": "stream",
     "text": [
      "100%|██████████| 15/15 [00:24<00:00,  1.63s/it]\n",
      "100%|██████████| 1/1 [00:00<00:00, 186.77it/s]\n"
     ]
    },
    {
     "name": "stdout",
     "output_type": "stream",
     "text": [
      "Epoch  6: Loss = 10.0205\n",
      "valid loss = 1.3568\n"
     ]
    },
    {
     "name": "stderr",
     "output_type": "stream",
     "text": [
      "100%|██████████| 15/15 [00:23<00:00,  1.58s/it]\n",
      "100%|██████████| 1/1 [00:00<00:00, 154.49it/s]\n"
     ]
    },
    {
     "name": "stdout",
     "output_type": "stream",
     "text": [
      "Epoch  7: Loss = 9.7166\n",
      "valid loss = 2.5111\n"
     ]
    },
    {
     "name": "stderr",
     "output_type": "stream",
     "text": [
      "100%|██████████| 15/15 [00:23<00:00,  1.59s/it]\n",
      "100%|██████████| 1/1 [00:00<00:00, 253.10it/s]\n"
     ]
    },
    {
     "name": "stdout",
     "output_type": "stream",
     "text": [
      "Epoch  8: Loss = 9.1850\n",
      "valid loss = 2.0812\n"
     ]
    },
    {
     "name": "stderr",
     "output_type": "stream",
     "text": [
      "100%|██████████| 15/15 [00:23<00:00,  1.58s/it]\n",
      "100%|██████████| 1/1 [00:00<00:00, 202.11it/s]\n"
     ]
    },
    {
     "name": "stdout",
     "output_type": "stream",
     "text": [
      "Epoch  9: Loss = 8.9204\n",
      "valid loss = 0.0175\n"
     ]
    },
    {
     "name": "stderr",
     "output_type": "stream",
     "text": [
      "100%|██████████| 15/15 [00:23<00:00,  1.58s/it]\n",
      "100%|██████████| 1/1 [00:00<00:00, 208.33it/s]\n"
     ]
    },
    {
     "name": "stdout",
     "output_type": "stream",
     "text": [
      "Epoch 10: Loss = 8.4189\n",
      "valid loss = 0.1209\n"
     ]
    },
    {
     "name": "stderr",
     "output_type": "stream",
     "text": [
      "100%|██████████| 15/15 [00:23<00:00,  1.58s/it]\n",
      "100%|██████████| 1/1 [00:00<00:00, 489.53it/s]\n"
     ]
    },
    {
     "name": "stdout",
     "output_type": "stream",
     "text": [
      "Epoch 11: Loss = 7.9406\n",
      "valid loss = 2.3675\n"
     ]
    },
    {
     "name": "stderr",
     "output_type": "stream",
     "text": [
      "100%|██████████| 15/15 [00:23<00:00,  1.59s/it]\n",
      "100%|██████████| 1/1 [00:00<00:00, 235.25it/s]\n"
     ]
    },
    {
     "name": "stdout",
     "output_type": "stream",
     "text": [
      "Epoch 12: Loss = 7.5836\n",
      "valid loss = 0.6624\n"
     ]
    },
    {
     "name": "stderr",
     "output_type": "stream",
     "text": [
      "100%|██████████| 15/15 [00:24<00:00,  1.61s/it]\n",
      "100%|██████████| 1/1 [00:00<00:00, 246.26it/s]\n"
     ]
    },
    {
     "name": "stdout",
     "output_type": "stream",
     "text": [
      "Epoch 13: Loss = 7.1559\n",
      "valid loss = 2.2614\n"
     ]
    },
    {
     "name": "stderr",
     "output_type": "stream",
     "text": [
      "100%|██████████| 15/15 [00:24<00:00,  1.60s/it]\n",
      "100%|██████████| 1/1 [00:00<00:00, 208.68it/s]\n"
     ]
    },
    {
     "name": "stdout",
     "output_type": "stream",
     "text": [
      "Epoch 14: Loss = 6.7626\n",
      "valid loss = 0.2966\n"
     ]
    },
    {
     "name": "stderr",
     "output_type": "stream",
     "text": [
      "100%|██████████| 15/15 [00:23<00:00,  1.59s/it]\n",
      "100%|██████████| 1/1 [00:00<00:00, 215.34it/s]\n"
     ]
    },
    {
     "name": "stdout",
     "output_type": "stream",
     "text": [
      "Epoch 15: Loss = 6.3165\n",
      "valid loss = 0.3168\n"
     ]
    },
    {
     "name": "stderr",
     "output_type": "stream",
     "text": [
      "100%|██████████| 15/15 [00:23<00:00,  1.58s/it]\n",
      "100%|██████████| 1/1 [00:00<00:00, 250.12it/s]\n"
     ]
    },
    {
     "name": "stdout",
     "output_type": "stream",
     "text": [
      "Epoch 16: Loss = 6.0809\n",
      "valid loss = 0.6748\n"
     ]
    },
    {
     "name": "stderr",
     "output_type": "stream",
     "text": [
      "100%|██████████| 15/15 [00:23<00:00,  1.58s/it]\n",
      "100%|██████████| 1/1 [00:00<00:00, 287.60it/s]\n"
     ]
    },
    {
     "name": "stdout",
     "output_type": "stream",
     "text": [
      "Epoch 17: Loss = 5.7745\n",
      "valid loss = 2.1194\n"
     ]
    },
    {
     "name": "stderr",
     "output_type": "stream",
     "text": [
      "100%|██████████| 15/15 [00:24<00:00,  1.63s/it]\n",
      "100%|██████████| 1/1 [00:00<00:00, 217.19it/s]\n"
     ]
    },
    {
     "name": "stdout",
     "output_type": "stream",
     "text": [
      "Epoch 18: Loss = 5.4298\n",
      "valid loss = 4.6737\n"
     ]
    },
    {
     "name": "stderr",
     "output_type": "stream",
     "text": [
      "100%|██████████| 15/15 [00:23<00:00,  1.58s/it]\n",
      "100%|██████████| 1/1 [00:00<00:00, 381.96it/s]\n"
     ]
    },
    {
     "name": "stdout",
     "output_type": "stream",
     "text": [
      "Epoch 19: Loss = 5.3996\n",
      "valid loss = 0.6599\n"
     ]
    },
    {
     "name": "stderr",
     "output_type": "stream",
     "text": [
      "100%|██████████| 15/15 [00:24<00:00,  1.63s/it]\n",
      "100%|██████████| 1/1 [00:00<00:00, 139.18it/s]\n"
     ]
    },
    {
     "name": "stdout",
     "output_type": "stream",
     "text": [
      "Epoch 20: Loss = 5.0561\n",
      "valid loss = 4.9222\n"
     ]
    },
    {
     "name": "stderr",
     "output_type": "stream",
     "text": [
      "100%|██████████| 15/15 [00:23<00:00,  1.59s/it]\n",
      "100%|██████████| 1/1 [00:00<00:00, 206.09it/s]\n"
     ]
    },
    {
     "name": "stdout",
     "output_type": "stream",
     "text": [
      "Epoch 21: Loss = 4.6822\n",
      "valid loss = 4.9026\n"
     ]
    },
    {
     "name": "stderr",
     "output_type": "stream",
     "text": [
      "100%|██████████| 15/15 [00:24<00:00,  1.60s/it]\n",
      "100%|██████████| 1/1 [00:00<00:00, 201.74it/s]\n"
     ]
    },
    {
     "name": "stdout",
     "output_type": "stream",
     "text": [
      "Epoch 22: Loss = 4.8822\n",
      "valid loss = 5.0998\n"
     ]
    },
    {
     "name": "stderr",
     "output_type": "stream",
     "text": [
      "100%|██████████| 15/15 [00:24<00:00,  1.61s/it]\n",
      "100%|██████████| 1/1 [00:00<00:00, 198.61it/s]\n"
     ]
    },
    {
     "name": "stdout",
     "output_type": "stream",
     "text": [
      "Epoch 23: Loss = 4.8671\n",
      "valid loss = 6.9058\n"
     ]
    },
    {
     "name": "stderr",
     "output_type": "stream",
     "text": [
      "100%|██████████| 15/15 [00:24<00:00,  1.62s/it]\n",
      "100%|██████████| 1/1 [00:00<00:00, 189.54it/s]\n"
     ]
    },
    {
     "name": "stdout",
     "output_type": "stream",
     "text": [
      "Epoch 24: Loss = 4.4061\n",
      "valid loss = 1.0653\n"
     ]
    },
    {
     "name": "stderr",
     "output_type": "stream",
     "text": [
      "100%|██████████| 15/15 [00:23<00:00,  1.59s/it]\n",
      "100%|██████████| 1/1 [00:00<00:00, 231.42it/s]\n"
     ]
    },
    {
     "name": "stdout",
     "output_type": "stream",
     "text": [
      "Epoch 25: Loss = 4.6006\n",
      "valid loss = 7.7449\n"
     ]
    },
    {
     "name": "stderr",
     "output_type": "stream",
     "text": [
      "100%|██████████| 15/15 [00:23<00:00,  1.59s/it]\n",
      "100%|██████████| 1/1 [00:00<00:00, 288.94it/s]\n"
     ]
    },
    {
     "name": "stdout",
     "output_type": "stream",
     "text": [
      "Epoch 26: Loss = 4.3869\n",
      "valid loss = 3.1365\n"
     ]
    },
    {
     "name": "stderr",
     "output_type": "stream",
     "text": [
      "100%|██████████| 15/15 [00:24<00:00,  1.62s/it]\n",
      "100%|██████████| 1/1 [00:00<00:00, 205.90it/s]\n"
     ]
    },
    {
     "name": "stdout",
     "output_type": "stream",
     "text": [
      "Epoch 27: Loss = 4.3956\n",
      "valid loss = 0.3095\n"
     ]
    },
    {
     "name": "stderr",
     "output_type": "stream",
     "text": [
      "100%|██████████| 15/15 [00:24<00:00,  1.61s/it]\n",
      "100%|██████████| 1/1 [00:00<00:00, 201.98it/s]\n"
     ]
    },
    {
     "name": "stdout",
     "output_type": "stream",
     "text": [
      "Epoch 28: Loss = 4.2911\n",
      "valid loss = 4.2274\n"
     ]
    },
    {
     "name": "stderr",
     "output_type": "stream",
     "text": [
      "100%|██████████| 15/15 [00:23<00:00,  1.59s/it]\n",
      "100%|██████████| 1/1 [00:00<00:00, 202.47it/s]\n"
     ]
    },
    {
     "name": "stdout",
     "output_type": "stream",
     "text": [
      "Epoch 29: Loss = 4.1930\n",
      "valid loss = 1.6217\n"
     ]
    },
    {
     "name": "stderr",
     "output_type": "stream",
     "text": [
      "100%|██████████| 15/15 [00:23<00:00,  1.58s/it]\n",
      "100%|██████████| 1/1 [00:00<00:00, 240.72it/s]\n"
     ]
    },
    {
     "name": "stdout",
     "output_type": "stream",
     "text": [
      "Epoch 30: Loss = 4.1059\n",
      "valid loss = 4.1913\n"
     ]
    },
    {
     "name": "stderr",
     "output_type": "stream",
     "text": [
      "100%|██████████| 15/15 [00:23<00:00,  1.59s/it]\n",
      "100%|██████████| 1/1 [00:00<00:00, 203.29it/s]\n"
     ]
    },
    {
     "name": "stdout",
     "output_type": "stream",
     "text": [
      "Epoch 31: Loss = 4.2673\n",
      "valid loss = 5.5112\n"
     ]
    },
    {
     "name": "stderr",
     "output_type": "stream",
     "text": [
      "100%|██████████| 15/15 [00:24<00:00,  1.61s/it]\n",
      "100%|██████████| 1/1 [00:00<00:00, 173.19it/s]\n"
     ]
    },
    {
     "name": "stdout",
     "output_type": "stream",
     "text": [
      "Epoch 32: Loss = 3.8892\n",
      "valid loss = 8.0134\n"
     ]
    },
    {
     "name": "stderr",
     "output_type": "stream",
     "text": [
      "100%|██████████| 15/15 [00:24<00:00,  1.61s/it]\n",
      "100%|██████████| 1/1 [00:00<00:00, 172.78it/s]\n"
     ]
    },
    {
     "name": "stdout",
     "output_type": "stream",
     "text": [
      "Epoch 33: Loss = 4.1496\n",
      "valid loss = 4.0087\n"
     ]
    },
    {
     "name": "stderr",
     "output_type": "stream",
     "text": [
      "100%|██████████| 15/15 [00:23<00:00,  1.59s/it]\n",
      "100%|██████████| 1/1 [00:00<00:00, 199.11it/s]\n"
     ]
    },
    {
     "name": "stdout",
     "output_type": "stream",
     "text": [
      "Epoch 34: Loss = 3.9630\n",
      "valid loss = 2.5795\n"
     ]
    },
    {
     "name": "stderr",
     "output_type": "stream",
     "text": [
      "100%|██████████| 15/15 [00:23<00:00,  1.58s/it]\n",
      "100%|██████████| 1/1 [00:00<00:00, 225.22it/s]\n"
     ]
    },
    {
     "name": "stdout",
     "output_type": "stream",
     "text": [
      "Epoch 35: Loss = 4.1199\n",
      "valid loss = 6.8732\n"
     ]
    },
    {
     "name": "stderr",
     "output_type": "stream",
     "text": [
      "100%|██████████| 15/15 [00:23<00:00,  1.60s/it]\n",
      "100%|██████████| 1/1 [00:00<00:00, 213.26it/s]\n"
     ]
    },
    {
     "name": "stdout",
     "output_type": "stream",
     "text": [
      "Epoch 36: Loss = 3.9112\n",
      "valid loss = 4.5251\n"
     ]
    },
    {
     "name": "stderr",
     "output_type": "stream",
     "text": [
      "100%|██████████| 15/15 [00:23<00:00,  1.59s/it]\n",
      "100%|██████████| 1/1 [00:00<00:00, 202.26it/s]\n"
     ]
    },
    {
     "name": "stdout",
     "output_type": "stream",
     "text": [
      "Epoch 37: Loss = 3.8609\n",
      "valid loss = 7.5425\n"
     ]
    },
    {
     "name": "stderr",
     "output_type": "stream",
     "text": [
      "100%|██████████| 15/15 [00:23<00:00,  1.60s/it]\n",
      "100%|██████████| 1/1 [00:00<00:00, 206.22it/s]\n"
     ]
    },
    {
     "name": "stdout",
     "output_type": "stream",
     "text": [
      "Epoch 38: Loss = 3.9798\n",
      "valid loss = 6.5976\n"
     ]
    },
    {
     "name": "stderr",
     "output_type": "stream",
     "text": [
      "100%|██████████| 15/15 [00:23<00:00,  1.59s/it]\n",
      "100%|██████████| 1/1 [00:00<00:00, 224.07it/s]\n"
     ]
    },
    {
     "name": "stdout",
     "output_type": "stream",
     "text": [
      "Epoch 39: Loss = 3.8369\n",
      "valid loss = 5.0752\n"
     ]
    },
    {
     "name": "stderr",
     "output_type": "stream",
     "text": [
      "100%|██████████| 15/15 [00:23<00:00,  1.59s/it]\n",
      "100%|██████████| 1/1 [00:00<00:00, 322.56it/s]\n"
     ]
    },
    {
     "name": "stdout",
     "output_type": "stream",
     "text": [
      "Epoch 40: Loss = 3.7435\n",
      "valid loss = 3.9235\n"
     ]
    },
    {
     "name": "stderr",
     "output_type": "stream",
     "text": [
      "100%|██████████| 15/15 [00:24<00:00,  1.61s/it]\n",
      "100%|██████████| 1/1 [00:00<00:00, 197.05it/s]\n"
     ]
    },
    {
     "name": "stdout",
     "output_type": "stream",
     "text": [
      "Epoch 41: Loss = 3.9010\n",
      "valid loss = 5.8975\n"
     ]
    },
    {
     "name": "stderr",
     "output_type": "stream",
     "text": [
      "100%|██████████| 15/15 [00:24<00:00,  1.61s/it]\n",
      "100%|██████████| 1/1 [00:00<00:00, 311.33it/s]\n"
     ]
    },
    {
     "name": "stdout",
     "output_type": "stream",
     "text": [
      "Epoch 42: Loss = 4.2160\n",
      "valid loss = 5.6996\n"
     ]
    },
    {
     "name": "stderr",
     "output_type": "stream",
     "text": [
      "100%|██████████| 15/15 [00:23<00:00,  1.59s/it]\n",
      "100%|██████████| 1/1 [00:00<00:00, 197.31it/s]\n"
     ]
    },
    {
     "name": "stdout",
     "output_type": "stream",
     "text": [
      "Epoch 43: Loss = 3.6385\n",
      "valid loss = 5.1953\n"
     ]
    },
    {
     "name": "stderr",
     "output_type": "stream",
     "text": [
      "100%|██████████| 15/15 [00:23<00:00,  1.59s/it]\n",
      "100%|██████████| 1/1 [00:00<00:00, 292.65it/s]\n"
     ]
    },
    {
     "name": "stdout",
     "output_type": "stream",
     "text": [
      "Epoch 44: Loss = 3.5720\n",
      "valid loss = 3.3609\n"
     ]
    },
    {
     "name": "stderr",
     "output_type": "stream",
     "text": [
      "100%|██████████| 15/15 [00:24<00:00,  1.62s/it]\n",
      "100%|██████████| 1/1 [00:00<00:00, 182.99it/s]\n"
     ]
    },
    {
     "name": "stdout",
     "output_type": "stream",
     "text": [
      "Epoch 45: Loss = 3.5386\n",
      "valid loss = 6.4019\n"
     ]
    },
    {
     "name": "stderr",
     "output_type": "stream",
     "text": [
      "100%|██████████| 15/15 [00:23<00:00,  1.59s/it]\n",
      "100%|██████████| 1/1 [00:00<00:00, 242.01it/s]\n"
     ]
    },
    {
     "name": "stdout",
     "output_type": "stream",
     "text": [
      "Epoch 46: Loss = 3.7894\n",
      "valid loss = 8.3511\n"
     ]
    },
    {
     "name": "stderr",
     "output_type": "stream",
     "text": [
      "100%|██████████| 15/15 [00:24<00:00,  1.60s/it]\n",
      "100%|██████████| 1/1 [00:00<00:00, 237.48it/s]\n"
     ]
    },
    {
     "name": "stdout",
     "output_type": "stream",
     "text": [
      "Epoch 47: Loss = 4.0173\n",
      "valid loss = 9.3291\n"
     ]
    },
    {
     "name": "stderr",
     "output_type": "stream",
     "text": [
      "100%|██████████| 15/15 [00:24<00:00,  1.60s/it]\n",
      "100%|██████████| 1/1 [00:00<00:00, 164.75it/s]\n"
     ]
    },
    {
     "name": "stdout",
     "output_type": "stream",
     "text": [
      "Epoch 48: Loss = 3.9629\n",
      "valid loss = 5.0825\n"
     ]
    },
    {
     "name": "stderr",
     "output_type": "stream",
     "text": [
      "100%|██████████| 15/15 [00:23<00:00,  1.59s/it]\n",
      "100%|██████████| 1/1 [00:00<00:00, 222.23it/s]\n"
     ]
    },
    {
     "name": "stdout",
     "output_type": "stream",
     "text": [
      "Epoch 49: Loss = 3.8099\n",
      "valid loss = 4.4950\n"
     ]
    },
    {
     "name": "stderr",
     "output_type": "stream",
     "text": [
      "100%|██████████| 15/15 [00:23<00:00,  1.58s/it]\n",
      "100%|██████████| 1/1 [00:00<00:00, 455.61it/s]"
     ]
    },
    {
     "name": "stdout",
     "output_type": "stream",
     "text": [
      "Epoch 50: Loss = 3.5704\n",
      "valid loss = 4.9826\n",
      "Done!\n"
     ]
    },
    {
     "name": "stderr",
     "output_type": "stream",
     "text": [
      "\n"
     ]
    }
   ],
   "source": [
    "if Mode_train:\n",
    "    epochs = 50\n",
    "    if not trained:\n",
    "        loss_record = [1e6, 1e6, 1e6, 1e6, 1e6]\n",
    "    for epoch in range(epochs):\n",
    "        train_loss = train(train_dataloader, model, loss_fn, optimizer, writer=writer, record_batches=200)\n",
    "        val_loss = val(valid_dataloader, model, loss_fn)\n",
    "        writer.add_scalar(\"loss/training\", train_loss, epoch+1)\n",
    "        writer.add_scalar(\"loss/validation\", val_loss, epoch+1)\n",
    "        print(f\"Epoch {epoch + 1:2d}: Loss = {train_loss:.4f}\") \n",
    "        print(f'valid loss = {val_loss:.4f}')\n",
    "        loss_record.append(train_loss)\n",
    "        # if train_loss > sum(loss_record[-5:])/5*1.05 or train_loss < 0.1:\n",
    "        #     print('Early stop!')\n",
    "        #     break\n",
    "\n",
    "    if not trained:        \n",
    "        del loss_record[0:5]\n",
    "    trained = True    \n",
    "    print(\"Done!\")"
   ]
  },
  {
   "cell_type": "markdown",
   "id": "dbeccd69-c913-47c4-bc99-e940d2b51691",
   "metadata": {},
   "source": [
    "## Plot training loss curve"
   ]
  },
  {
   "cell_type": "code",
   "execution_count": 18,
   "id": "be937485-68fa-4dc4-af1a-172937f9ba20",
   "metadata": {},
   "outputs": [],
   "source": [
    "import matplotlib.pyplot as plt\n",
    "\n",
    "def plot_loss_curve(loss_list):\n",
    "    plt.plot(loss_list)\n",
    "    plt.title('Loss Curve')\n",
    "    plt.xlabel('Epoch')\n",
    "    plt.ylabel('Loss')\n",
    "    plt.show()"
   ]
  },
  {
   "cell_type": "code",
   "execution_count": 19,
   "id": "921241a4-84fb-40bf-ac81-a5f5581a6a94",
   "metadata": {},
   "outputs": [
    {
     "data": {
      "image/png": "[encoded data removed]",
      "text/plain": [
       "<Figure size 640x480 with 1 Axes>"
      ]
     },
     "metadata": {},
     "output_type": "display_data"
    }
   ],
   "source": [
    "if Mode_train:\n",
    "    plot_loss_curve(loss_record)\n",
    "else:\n",
    "    print('Auto load loss curve')\n",
    "    with open(loss_filename) as fh:\n",
    "        s = fh.readline()\n",
    "        L = s[1:-1].split(', ')\n",
    "        loss_record = [float(x) for x in L]        \n",
    "    plot_loss_curve(loss_record)"
   ]
  },
  {
   "cell_type": "markdown",
   "id": "cc168e95-d799-48f2-9096-a5eb429cd162",
   "metadata": {},
   "source": [
    "## Evaluate"
   ]
  },
  {
   "cell_type": "code",
   "execution_count": 21,
   "id": "3e41223d-4c78-4904-a0d5-e38d3c7420d0",
   "metadata": {},
   "outputs": [
    {
     "name": "stderr",
     "output_type": "stream",
     "text": [
      "100%|██████████| 1/1 [00:00<00:00, 587.19it/s]"
     ]
    },
    {
     "name": "stdout",
     "output_type": "stream",
     "text": [
      "final valid loss = 4.9826\n"
     ]
    },
    {
     "name": "stderr",
     "output_type": "stream",
     "text": [
      "\n"
     ]
    }
   ],
   "source": [
    "#final_train_loss = val(train_dataloader, model, loss_fn)\n",
    "final_val_loss = val(valid_dataloader, model, loss_fn)\n",
    "print(f'final valid loss = {final_val_loss:.4f}')"
   ]
  },
  {
   "cell_type": "code",
   "execution_count": 22,
   "id": "6d6d298b",
   "metadata": {},
   "outputs": [
    {
     "name": "stdout",
     "output_type": "stream",
     "text": [
      "final valid loss = 4.9826\n"
     ]
    }
   ],
   "source": [
    "print(f'final valid loss = {final_val_loss:.4f}')"
   ]
  },
  {
   "cell_type": "markdown",
   "id": "3ebdad2f-6c4e-4451-9f5a-e3966809aac9",
   "metadata": {},
   "source": [
    "## Save model"
   ]
  },
  {
   "cell_type": "code",
   "execution_count": null,
   "id": "dd76e36c-6773-4a9b-95a2-730be3af8c85",
   "metadata": {},
   "outputs": [],
   "source": [
    "if Mode_train:\n",
    "    torch.save(model.state_dict(), save_model_name)\n",
    "    with open(loss_filename, 'w') as fh:\n",
    "        fh.writelines(str(loss_record))   "
   ]
  },
  {
   "cell_type": "markdown",
   "id": "d2b583fe-1fe0-44a7-99f7-777355e9da95",
   "metadata": {},
   "source": [
    "## Output test result"
   ]
  },
  {
   "cell_type": "code",
   "execution_count": 22,
   "id": "2f9c3efe-d359-46d1-b3f2-f58c39d9f346",
   "metadata": {},
   "outputs": [
    {
     "name": "stdout",
     "output_type": "stream",
     "text": [
      "loaded test csv file shape: (9914, 7)\n",
      "setting time info...\n",
      "setting geo info...\n",
      "counting fixed fee...\n"
     ]
    }
   ],
   "source": [
    "BATCH_SIZE = 64\n",
    "test_dataset = DataFolder(split='test', transformers=transformers)\n",
    "test_dataloader = data.DataLoader(dataset=test_dataset,\n",
    "                                  batch_size=BATCH_SIZE,\n",
    "                                  shuffle=False,\n",
    "                                  drop_last=False,\n",
    "                                  num_workers=0)"
   ]
  },
  {
   "cell_type": "code",
   "execution_count": 23,
   "id": "ffd00804",
   "metadata": {},
   "outputs": [],
   "source": [
    "df_test = pd.DataFrame(test_dataset.key_list, columns=[\"key\"])"
   ]
  },
  {
   "cell_type": "code",
   "execution_count": 24,
   "id": "e8d8b167",
   "metadata": {},
   "outputs": [
    {
     "data": {
      "text/html": [
       "<div>\n",
       "<style scoped>\n",
       "    .dataframe tbody tr th:only-of-type {\n",
       "        vertical-align: middle;\n",
       "    }\n",
       "\n",
       "    .dataframe tbody tr th {\n",
       "        vertical-align: top;\n",
       "    }\n",
       "\n",
       "    .dataframe thead th {\n",
       "        text-align: right;\n",
       "    }\n",
       "</style>\n",
       "<table border=\"1\" class=\"dataframe\">\n",
       "  <thead>\n",
       "    <tr style=\"text-align: right;\">\n",
       "      <th></th>\n",
       "      <th>key</th>\n",
       "    </tr>\n",
       "  </thead>\n",
       "  <tbody>\n",
       "    <tr>\n",
       "      <th>0</th>\n",
       "      <td>2015-01-27 13:08:24.0000002</td>\n",
       "    </tr>\n",
       "    <tr>\n",
       "      <th>1</th>\n",
       "      <td>2015-01-27 13:08:24.0000003</td>\n",
       "    </tr>\n",
       "    <tr>\n",
       "      <th>2</th>\n",
       "      <td>2011-10-08 11:53:44.0000002</td>\n",
       "    </tr>\n",
       "    <tr>\n",
       "      <th>3</th>\n",
       "      <td>2012-12-01 21:12:12.0000002</td>\n",
       "    </tr>\n",
       "    <tr>\n",
       "      <th>4</th>\n",
       "      <td>2012-12-01 21:12:12.0000003</td>\n",
       "    </tr>\n",
       "    <tr>\n",
       "      <th>...</th>\n",
       "      <td>...</td>\n",
       "    </tr>\n",
       "    <tr>\n",
       "      <th>9909</th>\n",
       "      <td>2015-05-10 12:37:51.0000002</td>\n",
       "    </tr>\n",
       "    <tr>\n",
       "      <th>9910</th>\n",
       "      <td>2015-01-12 17:05:51.0000001</td>\n",
       "    </tr>\n",
       "    <tr>\n",
       "      <th>9911</th>\n",
       "      <td>2015-04-19 20:44:15.0000001</td>\n",
       "    </tr>\n",
       "    <tr>\n",
       "      <th>9912</th>\n",
       "      <td>2015-01-31 01:05:19.0000005</td>\n",
       "    </tr>\n",
       "    <tr>\n",
       "      <th>9913</th>\n",
       "      <td>2015-01-18 14:06:23.0000006</td>\n",
       "    </tr>\n",
       "  </tbody>\n",
       "</table>\n",
       "<p>9914 rows × 1 columns</p>\n",
       "</div>"
      ],
      "text/plain": [
       "                              key\n",
       "0     2015-01-27 13:08:24.0000002\n",
       "1     2015-01-27 13:08:24.0000003\n",
       "2     2011-10-08 11:53:44.0000002\n",
       "3     2012-12-01 21:12:12.0000002\n",
       "4     2012-12-01 21:12:12.0000003\n",
       "...                           ...\n",
       "9909  2015-05-10 12:37:51.0000002\n",
       "9910  2015-01-12 17:05:51.0000001\n",
       "9911  2015-04-19 20:44:15.0000001\n",
       "9912  2015-01-31 01:05:19.0000005\n",
       "9913  2015-01-18 14:06:23.0000006\n",
       "\n",
       "[9914 rows x 1 columns]"
      ]
     },
     "execution_count": 24,
     "metadata": {},
     "output_type": "execute_result"
    }
   ],
   "source": [
    "df_test"
   ]
  },
  {
   "cell_type": "code",
   "execution_count": 25,
   "id": "567e336e",
   "metadata": {},
   "outputs": [
    {
     "data": {
      "text/html": [
       "<div>\n",
       "<style scoped>\n",
       "    .dataframe tbody tr th:only-of-type {\n",
       "        vertical-align: middle;\n",
       "    }\n",
       "\n",
       "    .dataframe tbody tr th {\n",
       "        vertical-align: top;\n",
       "    }\n",
       "\n",
       "    .dataframe thead th {\n",
       "        text-align: right;\n",
       "    }\n",
       "</style>\n",
       "<table border=\"1\" class=\"dataframe\">\n",
       "  <thead>\n",
       "    <tr style=\"text-align: right;\">\n",
       "      <th></th>\n",
       "      <th>key</th>\n",
       "      <th>passenger_count</th>\n",
       "      <th>year</th>\n",
       "      <th>Sunday</th>\n",
       "      <th>Monday</th>\n",
       "      <th>Tuesday</th>\n",
       "      <th>Wednesday</th>\n",
       "      <th>Thursday</th>\n",
       "      <th>Friday</th>\n",
       "      <th>Saturday</th>\n",
       "      <th>...</th>\n",
       "      <th>distance</th>\n",
       "      <th>from_JKF</th>\n",
       "      <th>to_JKF</th>\n",
       "      <th>from_LGA</th>\n",
       "      <th>to_LGA</th>\n",
       "      <th>to_EWR</th>\n",
       "      <th>from_Manhattan</th>\n",
       "      <th>to_Manhattan</th>\n",
       "      <th>direction</th>\n",
       "      <th>total_fixed_fees</th>\n",
       "    </tr>\n",
       "  </thead>\n",
       "  <tbody>\n",
       "    <tr>\n",
       "      <th>0</th>\n",
       "      <td>2015-01-27 13:08:24.0000002</td>\n",
       "      <td>1</td>\n",
       "      <td>1.000000</td>\n",
       "      <td>1</td>\n",
       "      <td>0</td>\n",
       "      <td>0</td>\n",
       "      <td>0</td>\n",
       "      <td>0</td>\n",
       "      <td>0</td>\n",
       "      <td>0</td>\n",
       "      <td>...</td>\n",
       "      <td>1.443607</td>\n",
       "      <td>False</td>\n",
       "      <td>False</td>\n",
       "      <td>False</td>\n",
       "      <td>False</td>\n",
       "      <td>False</td>\n",
       "      <td>True</td>\n",
       "      <td>True</td>\n",
       "      <td>-162.897409</td>\n",
       "      <td>3.3</td>\n",
       "    </tr>\n",
       "    <tr>\n",
       "      <th>1</th>\n",
       "      <td>2015-01-27 13:08:24.0000003</td>\n",
       "      <td>1</td>\n",
       "      <td>1.000000</td>\n",
       "      <td>1</td>\n",
       "      <td>0</td>\n",
       "      <td>0</td>\n",
       "      <td>0</td>\n",
       "      <td>0</td>\n",
       "      <td>0</td>\n",
       "      <td>0</td>\n",
       "      <td>...</td>\n",
       "      <td>1.507044</td>\n",
       "      <td>False</td>\n",
       "      <td>False</td>\n",
       "      <td>False</td>\n",
       "      <td>False</td>\n",
       "      <td>False</td>\n",
       "      <td>False</td>\n",
       "      <td>True</td>\n",
       "      <td>-24.688387</td>\n",
       "      <td>3.3</td>\n",
       "    </tr>\n",
       "    <tr>\n",
       "      <th>2</th>\n",
       "      <td>2011-10-08 11:53:44.0000002</td>\n",
       "      <td>1</td>\n",
       "      <td>0.333333</td>\n",
       "      <td>0</td>\n",
       "      <td>0</td>\n",
       "      <td>0</td>\n",
       "      <td>0</td>\n",
       "      <td>1</td>\n",
       "      <td>0</td>\n",
       "      <td>0</td>\n",
       "      <td>...</td>\n",
       "      <td>0.384398</td>\n",
       "      <td>False</td>\n",
       "      <td>False</td>\n",
       "      <td>False</td>\n",
       "      <td>False</td>\n",
       "      <td>False</td>\n",
       "      <td>True</td>\n",
       "      <td>True</td>\n",
       "      <td>156.994148</td>\n",
       "      <td>3.0</td>\n",
       "    </tr>\n",
       "    <tr>\n",
       "      <th>3</th>\n",
       "      <td>2012-12-01 21:12:12.0000002</td>\n",
       "      <td>1</td>\n",
       "      <td>0.500000</td>\n",
       "      <td>0</td>\n",
       "      <td>0</td>\n",
       "      <td>0</td>\n",
       "      <td>0</td>\n",
       "      <td>1</td>\n",
       "      <td>0</td>\n",
       "      <td>0</td>\n",
       "      <td>...</td>\n",
       "      <td>1.218529</td>\n",
       "      <td>False</td>\n",
       "      <td>False</td>\n",
       "      <td>False</td>\n",
       "      <td>False</td>\n",
       "      <td>False</td>\n",
       "      <td>True</td>\n",
       "      <td>True</td>\n",
       "      <td>-156.486692</td>\n",
       "      <td>3.5</td>\n",
       "    </tr>\n",
       "    <tr>\n",
       "      <th>4</th>\n",
       "      <td>2012-12-01 21:12:12.0000003</td>\n",
       "      <td>1</td>\n",
       "      <td>0.500000</td>\n",
       "      <td>0</td>\n",
       "      <td>0</td>\n",
       "      <td>0</td>\n",
       "      <td>0</td>\n",
       "      <td>1</td>\n",
       "      <td>0</td>\n",
       "      <td>0</td>\n",
       "      <td>...</td>\n",
       "      <td>3.347514</td>\n",
       "      <td>False</td>\n",
       "      <td>False</td>\n",
       "      <td>False</td>\n",
       "      <td>False</td>\n",
       "      <td>False</td>\n",
       "      <td>True</td>\n",
       "      <td>True</td>\n",
       "      <td>-159.381549</td>\n",
       "      <td>3.5</td>\n",
       "    </tr>\n",
       "    <tr>\n",
       "      <th>...</th>\n",
       "      <td>...</td>\n",
       "      <td>...</td>\n",
       "      <td>...</td>\n",
       "      <td>...</td>\n",
       "      <td>...</td>\n",
       "      <td>...</td>\n",
       "      <td>...</td>\n",
       "      <td>...</td>\n",
       "      <td>...</td>\n",
       "      <td>...</td>\n",
       "      <td>...</td>\n",
       "      <td>...</td>\n",
       "      <td>...</td>\n",
       "      <td>...</td>\n",
       "      <td>...</td>\n",
       "      <td>...</td>\n",
       "      <td>...</td>\n",
       "      <td>...</td>\n",
       "      <td>...</td>\n",
       "      <td>...</td>\n",
       "      <td>...</td>\n",
       "    </tr>\n",
       "    <tr>\n",
       "      <th>9909</th>\n",
       "      <td>2015-05-10 12:37:51.0000002</td>\n",
       "      <td>6</td>\n",
       "      <td>1.000000</td>\n",
       "      <td>0</td>\n",
       "      <td>0</td>\n",
       "      <td>0</td>\n",
       "      <td>0</td>\n",
       "      <td>0</td>\n",
       "      <td>1</td>\n",
       "      <td>0</td>\n",
       "      <td>...</td>\n",
       "      <td>1.320336</td>\n",
       "      <td>False</td>\n",
       "      <td>False</td>\n",
       "      <td>False</td>\n",
       "      <td>False</td>\n",
       "      <td>False</td>\n",
       "      <td>True</td>\n",
       "      <td>True</td>\n",
       "      <td>150.357203</td>\n",
       "      <td>3.3</td>\n",
       "    </tr>\n",
       "    <tr>\n",
       "      <th>9910</th>\n",
       "      <td>2015-01-12 17:05:51.0000001</td>\n",
       "      <td>6</td>\n",
       "      <td>1.000000</td>\n",
       "      <td>0</td>\n",
       "      <td>0</td>\n",
       "      <td>0</td>\n",
       "      <td>0</td>\n",
       "      <td>0</td>\n",
       "      <td>0</td>\n",
       "      <td>1</td>\n",
       "      <td>...</td>\n",
       "      <td>2.032486</td>\n",
       "      <td>False</td>\n",
       "      <td>False</td>\n",
       "      <td>False</td>\n",
       "      <td>False</td>\n",
       "      <td>False</td>\n",
       "      <td>True</td>\n",
       "      <td>True</td>\n",
       "      <td>-157.761247</td>\n",
       "      <td>4.3</td>\n",
       "    </tr>\n",
       "    <tr>\n",
       "      <th>9911</th>\n",
       "      <td>2015-04-19 20:44:15.0000001</td>\n",
       "      <td>6</td>\n",
       "      <td>1.000000</td>\n",
       "      <td>0</td>\n",
       "      <td>0</td>\n",
       "      <td>0</td>\n",
       "      <td>0</td>\n",
       "      <td>0</td>\n",
       "      <td>1</td>\n",
       "      <td>0</td>\n",
       "      <td>...</td>\n",
       "      <td>11.920349</td>\n",
       "      <td>False</td>\n",
       "      <td>True</td>\n",
       "      <td>False</td>\n",
       "      <td>False</td>\n",
       "      <td>False</td>\n",
       "      <td>True</td>\n",
       "      <td>False</td>\n",
       "      <td>117.409509</td>\n",
       "      <td>3.8</td>\n",
       "    </tr>\n",
       "    <tr>\n",
       "      <th>9912</th>\n",
       "      <td>2015-01-31 01:05:19.0000005</td>\n",
       "      <td>6</td>\n",
       "      <td>1.000000</td>\n",
       "      <td>0</td>\n",
       "      <td>0</td>\n",
       "      <td>0</td>\n",
       "      <td>0</td>\n",
       "      <td>1</td>\n",
       "      <td>0</td>\n",
       "      <td>0</td>\n",
       "      <td>...</td>\n",
       "      <td>5.184402</td>\n",
       "      <td>False</td>\n",
       "      <td>False</td>\n",
       "      <td>False</td>\n",
       "      <td>True</td>\n",
       "      <td>False</td>\n",
       "      <td>True</td>\n",
       "      <td>True</td>\n",
       "      <td>27.907235</td>\n",
       "      <td>3.8</td>\n",
       "    </tr>\n",
       "    <tr>\n",
       "      <th>9913</th>\n",
       "      <td>2015-01-18 14:06:23.0000006</td>\n",
       "      <td>6</td>\n",
       "      <td>1.000000</td>\n",
       "      <td>0</td>\n",
       "      <td>0</td>\n",
       "      <td>0</td>\n",
       "      <td>0</td>\n",
       "      <td>0</td>\n",
       "      <td>1</td>\n",
       "      <td>0</td>\n",
       "      <td>...</td>\n",
       "      <td>0.733731</td>\n",
       "      <td>False</td>\n",
       "      <td>False</td>\n",
       "      <td>False</td>\n",
       "      <td>False</td>\n",
       "      <td>False</td>\n",
       "      <td>True</td>\n",
       "      <td>True</td>\n",
       "      <td>-60.987078</td>\n",
       "      <td>3.3</td>\n",
       "    </tr>\n",
       "  </tbody>\n",
       "</table>\n",
       "<p>9914 rows × 24 columns</p>\n",
       "</div>"
      ],
      "text/plain": [
       "                              key  passenger_count      year  Sunday  Monday  \\\n",
       "0     2015-01-27 13:08:24.0000002                1  1.000000       1       0   \n",
       "1     2015-01-27 13:08:24.0000003                1  1.000000       1       0   \n",
       "2     2011-10-08 11:53:44.0000002                1  0.333333       0       0   \n",
       "3     2012-12-01 21:12:12.0000002                1  0.500000       0       0   \n",
       "4     2012-12-01 21:12:12.0000003                1  0.500000       0       0   \n",
       "...                           ...              ...       ...     ...     ...   \n",
       "9909  2015-05-10 12:37:51.0000002                6  1.000000       0       0   \n",
       "9910  2015-01-12 17:05:51.0000001                6  1.000000       0       0   \n",
       "9911  2015-04-19 20:44:15.0000001                6  1.000000       0       0   \n",
       "9912  2015-01-31 01:05:19.0000005                6  1.000000       0       0   \n",
       "9913  2015-01-18 14:06:23.0000006                6  1.000000       0       0   \n",
       "\n",
       "      Tuesday  Wednesday  Thursday  Friday  Saturday  ...   distance  \\\n",
       "0           0          0         0       0         0  ...   1.443607   \n",
       "1           0          0         0       0         0  ...   1.507044   \n",
       "2           0          0         1       0         0  ...   0.384398   \n",
       "3           0          0         1       0         0  ...   1.218529   \n",
       "4           0          0         1       0         0  ...   3.347514   \n",
       "...       ...        ...       ...     ...       ...  ...        ...   \n",
       "9909        0          0         0       1         0  ...   1.320336   \n",
       "9910        0          0         0       0         1  ...   2.032486   \n",
       "9911        0          0         0       1         0  ...  11.920349   \n",
       "9912        0          0         1       0         0  ...   5.184402   \n",
       "9913        0          0         0       1         0  ...   0.733731   \n",
       "\n",
       "      from_JKF  to_JKF  from_LGA  to_LGA  to_EWR  from_Manhattan  \\\n",
       "0        False   False     False   False   False            True   \n",
       "1        False   False     False   False   False           False   \n",
       "2        False   False     False   False   False            True   \n",
       "3        False   False     False   False   False            True   \n",
       "4        False   False     False   False   False            True   \n",
       "...        ...     ...       ...     ...     ...             ...   \n",
       "9909     False   False     False   False   False            True   \n",
       "9910     False   False     False   False   False            True   \n",
       "9911     False    True     False   False   False            True   \n",
       "9912     False   False     False    True   False            True   \n",
       "9913     False   False     False   False   False            True   \n",
       "\n",
       "      to_Manhattan   direction  total_fixed_fees  \n",
       "0             True -162.897409               3.3  \n",
       "1             True  -24.688387               3.3  \n",
       "2             True  156.994148               3.0  \n",
       "3             True -156.486692               3.5  \n",
       "4             True -159.381549               3.5  \n",
       "...            ...         ...               ...  \n",
       "9909          True  150.357203               3.3  \n",
       "9910          True -157.761247               4.3  \n",
       "9911         False  117.409509               3.8  \n",
       "9912          True   27.907235               3.8  \n",
       "9913          True  -60.987078               3.3  \n",
       "\n",
       "[9914 rows x 24 columns]"
      ]
     },
     "execution_count": 25,
     "metadata": {},
     "output_type": "execute_result"
    }
   ],
   "source": [
    "test_dataset.df"
   ]
  },
  {
   "cell_type": "code",
   "execution_count": 26,
   "id": "82dd2646",
   "metadata": {},
   "outputs": [
    {
     "data": {
      "text/html": [
       "<div>\n",
       "<style scoped>\n",
       "    .dataframe tbody tr th:only-of-type {\n",
       "        vertical-align: middle;\n",
       "    }\n",
       "\n",
       "    .dataframe tbody tr th {\n",
       "        vertical-align: top;\n",
       "    }\n",
       "\n",
       "    .dataframe thead th {\n",
       "        text-align: right;\n",
       "    }\n",
       "</style>\n",
       "<table border=\"1\" class=\"dataframe\">\n",
       "  <thead>\n",
       "    <tr style=\"text-align: right;\">\n",
       "      <th></th>\n",
       "      <th>passenger_count</th>\n",
       "      <th>year</th>\n",
       "      <th>Sunday</th>\n",
       "      <th>Monday</th>\n",
       "      <th>Tuesday</th>\n",
       "      <th>Wednesday</th>\n",
       "      <th>Thursday</th>\n",
       "      <th>Friday</th>\n",
       "      <th>Saturday</th>\n",
       "      <th>hour</th>\n",
       "      <th>is_holiday</th>\n",
       "      <th>temperature</th>\n",
       "      <th>weathercode</th>\n",
       "      <th>distance</th>\n",
       "      <th>direction</th>\n",
       "      <th>total_fixed_fees</th>\n",
       "    </tr>\n",
       "  </thead>\n",
       "  <tbody>\n",
       "    <tr>\n",
       "      <th>count</th>\n",
       "      <td>9914.000000</td>\n",
       "      <td>9914.000000</td>\n",
       "      <td>9914.000000</td>\n",
       "      <td>9914.000000</td>\n",
       "      <td>9914.000000</td>\n",
       "      <td>9914.000000</td>\n",
       "      <td>9914.000000</td>\n",
       "      <td>9914.000000</td>\n",
       "      <td>9914.000000</td>\n",
       "      <td>9914.000000</td>\n",
       "      <td>9914.000000</td>\n",
       "      <td>9914.000000</td>\n",
       "      <td>9914.000000</td>\n",
       "      <td>9914.000000</td>\n",
       "      <td>9914.000000</td>\n",
       "      <td>9914.000000</td>\n",
       "    </tr>\n",
       "    <tr>\n",
       "      <th>mean</th>\n",
       "      <td>1.671273</td>\n",
       "      <td>0.469303</td>\n",
       "      <td>0.170668</td>\n",
       "      <td>0.162598</td>\n",
       "      <td>0.118620</td>\n",
       "      <td>0.129413</td>\n",
       "      <td>0.148780</td>\n",
       "      <td>0.123260</td>\n",
       "      <td>0.146661</td>\n",
       "      <td>-0.004255</td>\n",
       "      <td>0.280916</td>\n",
       "      <td>12.900978</td>\n",
       "      <td>9.147065</td>\n",
       "      <td>2.134640</td>\n",
       "      <td>-15.050413</td>\n",
       "      <td>3.421192</td>\n",
       "    </tr>\n",
       "    <tr>\n",
       "      <th>std</th>\n",
       "      <td>1.278747</td>\n",
       "      <td>0.300558</td>\n",
       "      <td>0.376237</td>\n",
       "      <td>0.369017</td>\n",
       "      <td>0.323357</td>\n",
       "      <td>0.335673</td>\n",
       "      <td>0.355889</td>\n",
       "      <td>0.328752</td>\n",
       "      <td>0.353786</td>\n",
       "      <td>1.055503</td>\n",
       "      <td>0.449469</td>\n",
       "      <td>9.928859</td>\n",
       "      <td>20.238913</td>\n",
       "      <td>2.468319</td>\n",
       "      <td>104.581807</td>\n",
       "      <td>0.675622</td>\n",
       "    </tr>\n",
       "    <tr>\n",
       "      <th>min</th>\n",
       "      <td>1.000000</td>\n",
       "      <td>0.000000</td>\n",
       "      <td>0.000000</td>\n",
       "      <td>0.000000</td>\n",
       "      <td>0.000000</td>\n",
       "      <td>0.000000</td>\n",
       "      <td>0.000000</td>\n",
       "      <td>0.000000</td>\n",
       "      <td>0.000000</td>\n",
       "      <td>-2.073809</td>\n",
       "      <td>0.000000</td>\n",
       "      <td>-19.100000</td>\n",
       "      <td>0.000000</td>\n",
       "      <td>0.000000</td>\n",
       "      <td>-179.916210</td>\n",
       "      <td>2.500000</td>\n",
       "    </tr>\n",
       "    <tr>\n",
       "      <th>25%</th>\n",
       "      <td>1.000000</td>\n",
       "      <td>0.166667</td>\n",
       "      <td>0.000000</td>\n",
       "      <td>0.000000</td>\n",
       "      <td>0.000000</td>\n",
       "      <td>0.000000</td>\n",
       "      <td>0.000000</td>\n",
       "      <td>0.000000</td>\n",
       "      <td>0.000000</td>\n",
       "      <td>-0.844440</td>\n",
       "      <td>0.000000</td>\n",
       "      <td>5.500000</td>\n",
       "      <td>0.000000</td>\n",
       "      <td>0.806712</td>\n",
       "      <td>-126.132654</td>\n",
       "      <td>3.000000</td>\n",
       "    </tr>\n",
       "    <tr>\n",
       "      <th>50%</th>\n",
       "      <td>1.000000</td>\n",
       "      <td>0.500000</td>\n",
       "      <td>0.000000</td>\n",
       "      <td>0.000000</td>\n",
       "      <td>0.000000</td>\n",
       "      <td>0.000000</td>\n",
       "      <td>0.000000</td>\n",
       "      <td>0.000000</td>\n",
       "      <td>0.000000</td>\n",
       "      <td>0.231258</td>\n",
       "      <td>0.000000</td>\n",
       "      <td>13.900000</td>\n",
       "      <td>1.000000</td>\n",
       "      <td>1.377836</td>\n",
       "      <td>8.977282</td>\n",
       "      <td>3.500000</td>\n",
       "    </tr>\n",
       "    <tr>\n",
       "      <th>75%</th>\n",
       "      <td>2.000000</td>\n",
       "      <td>0.833333</td>\n",
       "      <td>0.000000</td>\n",
       "      <td>0.000000</td>\n",
       "      <td>0.000000</td>\n",
       "      <td>0.000000</td>\n",
       "      <td>0.000000</td>\n",
       "      <td>0.000000</td>\n",
       "      <td>0.000000</td>\n",
       "      <td>0.845943</td>\n",
       "      <td>1.000000</td>\n",
       "      <td>20.600000</td>\n",
       "      <td>3.000000</td>\n",
       "      <td>2.513634</td>\n",
       "      <td>52.665549</td>\n",
       "      <td>3.500000</td>\n",
       "    </tr>\n",
       "    <tr>\n",
       "      <th>max</th>\n",
       "      <td>6.000000</td>\n",
       "      <td>1.000000</td>\n",
       "      <td>1.000000</td>\n",
       "      <td>1.000000</td>\n",
       "      <td>1.000000</td>\n",
       "      <td>1.000000</td>\n",
       "      <td>1.000000</td>\n",
       "      <td>1.000000</td>\n",
       "      <td>1.000000</td>\n",
       "      <td>1.460628</td>\n",
       "      <td>1.000000</td>\n",
       "      <td>38.300000</td>\n",
       "      <td>75.000000</td>\n",
       "      <td>62.134660</td>\n",
       "      <td>179.944850</td>\n",
       "      <td>21.000000</td>\n",
       "    </tr>\n",
       "  </tbody>\n",
       "</table>\n",
       "</div>"
      ],
      "text/plain": [
       "       passenger_count         year       Sunday       Monday      Tuesday  \\\n",
       "count      9914.000000  9914.000000  9914.000000  9914.000000  9914.000000   \n",
       "mean          1.671273     0.469303     0.170668     0.162598     0.118620   \n",
       "std           1.278747     0.300558     0.376237     0.369017     0.323357   \n",
       "min           1.000000     0.000000     0.000000     0.000000     0.000000   \n",
       "25%           1.000000     0.166667     0.000000     0.000000     0.000000   \n",
       "50%           1.000000     0.500000     0.000000     0.000000     0.000000   \n",
       "75%           2.000000     0.833333     0.000000     0.000000     0.000000   \n",
       "max           6.000000     1.000000     1.000000     1.000000     1.000000   \n",
       "\n",
       "         Wednesday     Thursday       Friday     Saturday         hour  \\\n",
       "count  9914.000000  9914.000000  9914.000000  9914.000000  9914.000000   \n",
       "mean      0.129413     0.148780     0.123260     0.146661    -0.004255   \n",
       "std       0.335673     0.355889     0.328752     0.353786     1.055503   \n",
       "min       0.000000     0.000000     0.000000     0.000000    -2.073809   \n",
       "25%       0.000000     0.000000     0.000000     0.000000    -0.844440   \n",
       "50%       0.000000     0.000000     0.000000     0.000000     0.231258   \n",
       "75%       0.000000     0.000000     0.000000     0.000000     0.845943   \n",
       "max       1.000000     1.000000     1.000000     1.000000     1.460628   \n",
       "\n",
       "        is_holiday  temperature  weathercode     distance    direction  \\\n",
       "count  9914.000000  9914.000000  9914.000000  9914.000000  9914.000000   \n",
       "mean      0.280916    12.900978     9.147065     2.134640   -15.050413   \n",
       "std       0.449469     9.928859    20.238913     2.468319   104.581807   \n",
       "min       0.000000   -19.100000     0.000000     0.000000  -179.916210   \n",
       "25%       0.000000     5.500000     0.000000     0.806712  -126.132654   \n",
       "50%       0.000000    13.900000     1.000000     1.377836     8.977282   \n",
       "75%       1.000000    20.600000     3.000000     2.513634    52.665549   \n",
       "max       1.000000    38.300000    75.000000    62.134660   179.944850   \n",
       "\n",
       "       total_fixed_fees  \n",
       "count       9914.000000  \n",
       "mean           3.421192  \n",
       "std            0.675622  \n",
       "min            2.500000  \n",
       "25%            3.000000  \n",
       "50%            3.500000  \n",
       "75%            3.500000  \n",
       "max           21.000000  "
      ]
     },
     "execution_count": 26,
     "metadata": {},
     "output_type": "execute_result"
    }
   ],
   "source": [
    "test_dataset.df.describe()"
   ]
  },
  {
   "cell_type": "code",
   "execution_count": 29,
   "id": "4cdb398d-c907-4050-9b97-b008f18ddbd9",
   "metadata": {},
   "outputs": [
    {
     "name": "stderr",
     "output_type": "stream",
     "text": [
      "100%|██████████| 155/155 [00:00<00:00, 1741.36it/s]\n"
     ]
    }
   ],
   "source": [
    "predictions = test(test_dataloader, model)\n",
    "df_test[\"fare_amount\"] = predictions\n",
    "df_test[\"fare_amount\"] = df_test[\"fare_amount\"]+test_dataset.df[\"total_fixed_fees\"]\n",
    "\n",
    "# 將dataframe保存為CSV文件\n",
    "df_test.to_csv(\"predictions.csv\", index=False)"
   ]
  },
  {
   "cell_type": "code",
   "execution_count": null,
   "id": "e19a0e18-b48a-4984-bea6-62da849fb7a3",
   "metadata": {},
   "outputs": [],
   "source": []
  }
 ],
 "metadata": {
  "kernelspec": {
   "display_name": "ML_2023",
   "language": "python",
   "name": "python3"
  },
  "language_info": {
   "codemirror_mode": {
    "name": "ipython",
    "version": 3
   },
   "file_extension": ".py",
   "mimetype": "text/x-python",
   "name": "python",
   "nbconvert_exporter": "python",
   "pygments_lexer": "ipython3",
   "version": "3.9.16"
  }
 },
 "nbformat": 4,
 "nbformat_minor": 5
}
